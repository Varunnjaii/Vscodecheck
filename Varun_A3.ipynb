{
 "cells": [
  {
   "cell_type": "markdown",
   "metadata": {},
   "source": [
    "1. Write a program to find the given number is a Strong number or not. (use functions)"
   ]
  },
  {
   "cell_type": "code",
   "execution_count": 29,
   "metadata": {},
   "outputs": [
    {
     "name": "stdout",
     "output_type": "stream",
     "text": [
      "enter a number: 33\n",
      "33 is not a strong number\n"
     ]
    }
   ],
   "source": [
    "def fact(number):\n",
    "    if number == 1:\n",
    "        return 1\n",
    "    else:\n",
    "        return number * fact(number-1)\n",
    "\n",
    "def is_strong(num):\n",
    "    temp = num\n",
    "    rem = 0\n",
    "    sum = 0\n",
    "    while temp != 0:\n",
    "        rem = temp%10\n",
    "        sum = sum+fact(rem)\n",
    "        temp = temp//10\n",
    "    \n",
    "    if num == sum:\n",
    "        return True\n",
    "    else:\n",
    "        return False\n",
    "\n",
    "\n",
    "        \n",
    "n = int(input('enter a number: '))\n",
    "res = is_strong(n)   \n",
    "if res == True:\n",
    "    print(n, 'is a strong number.')\n",
    "else:\n",
    "    print(n, 'is not a strong number')"
   ]
  },
  {
   "cell_type": "markdown",
   "metadata": {},
   "source": [
    "2. Given an array of integers, find the sum of its elements."
   ]
  },
  {
   "cell_type": "code",
   "execution_count": 17,
   "metadata": {},
   "outputs": [
    {
     "name": "stdout",
     "output_type": "stream",
     "text": [
      "50\n"
     ]
    }
   ],
   "source": [
    "def sum(l):\n",
    "    s = 0\n",
    "    for i in l:\n",
    "        s = s + i\n",
    "    return s\n",
    "\n",
    "ar = [2,6,7,4,9,22]\n",
    "print (sum(ar))"
   ]
  },
  {
   "cell_type": "code",
   "execution_count": null,
   "metadata": {},
   "outputs": [],
   "source": [
    "3. Consider a staircase of size n=4:\n",
    "   #\n",
    "  ##\n",
    " ###\n",
    "####\n",
    "Observe that its base and height are both equal to n, and the image is drawn using # symbols and spaces. The last line is not preceded by any spaces.\n",
    "Write a program that prints a staircase of size n."
   ]
  },
  {
   "cell_type": "code",
   "execution_count": 32,
   "metadata": {},
   "outputs": [
    {
     "name": "stdout",
     "output_type": "stream",
     "text": [
      "enter staricase size: 5\n",
      "    #\n",
      "   ##\n",
      "  ###\n",
      " ####\n",
      "#####\n"
     ]
    }
   ],
   "source": [
    "def stairs(h):\n",
    "    ns = h -1\n",
    "    i = 1\n",
    "    for _ in range(h):\n",
    "        print(ns * ' ' + i * '#')\n",
    "        ns = ns -1\n",
    "        i += 1\n",
    "    \n",
    "\n",
    "n = int(input('enter staricase size: '))\n",
    "stairs(n)\n"
   ]
  },
  {
   "cell_type": "markdown",
   "metadata": {},
   "source": [
    "4. Given five positive integers, find the minimum and maximum values that can be calculated by summing exactly four of the five integers. Then print the respective minimum and maximum values as a single line of two space-separated long integers."
   ]
  },
  {
   "cell_type": "code",
   "execution_count": 38,
   "metadata": {},
   "outputs": [
    {
     "name": "stdout",
     "output_type": "stream",
     "text": [
      "Minimum and Maximum values are:  86    158\n"
     ]
    }
   ],
   "source": [
    "list = [40,4,76,29,13]\n",
    "list.sort()\n",
    "\n",
    "min = sum(list[0:len(list)-1])\n",
    "\n",
    "max = sum(list[1: len(list)])\n",
    "\n",
    "print('Minimum and Maximum values are: ',min, '  ', max)\n"
   ]
  },
  {
   "cell_type": "markdown",
   "metadata": {},
   "source": [
    "5. Write a function named collatz() that has one parameter named number. If number is even, then collatz() should print number // 2 and return this value. If number is odd, then collatz() should print and return 3 * number + 1. Then write a program that lets the user type in an integer and that keeps calling collatz() on that number until the function returns the value 1. (Amazingly enough, this sequence actually works for any integer—sooner or later, using this sequence, you’ll arrive at 1! Even mathematicians aren’t sure why. Your program is exploring what’s called the Collatz sequence, sometimes called “the simplest impossible math problem.”) Remember to convert the return value from input() to an integer with the int() function; otherwise, it will be a string value."
   ]
  },
  {
   "cell_type": "code",
   "execution_count": 41,
   "metadata": {},
   "outputs": [
    {
     "name": "stdout",
     "output_type": "stream",
     "text": [
      "Enter any number: 50\n",
      "25\n",
      "76\n",
      "38\n",
      "19\n",
      "58\n",
      "29\n",
      "88\n",
      "44\n",
      "22\n",
      "11\n",
      "34\n",
      "17\n",
      "52\n",
      "26\n",
      "13\n",
      "40\n",
      "20\n",
      "10\n",
      "5\n",
      "16\n",
      "8\n",
      "4\n",
      "2\n",
      "1\n"
     ]
    }
   ],
   "source": [
    "def collatz(num):\n",
    "    if num %2 ==0:\n",
    "        print(num//2)\n",
    "        return num//2\n",
    "    else:\n",
    "        print(3 * num +1)\n",
    "        return 3 * num +1\n",
    "\n",
    "n = int(input('Enter any number: '))\n",
    "while True:\n",
    "    n = collatz(n)\n",
    "    if n ==1:\n",
    "        break"
   ]
  },
  {
   "cell_type": "markdown",
   "metadata": {},
   "source": [
    "6. Write a program to find given number is palindrome or not.\n"
   ]
  },
  {
   "cell_type": "code",
   "execution_count": 35,
   "metadata": {},
   "outputs": [
    {
     "name": "stdout",
     "output_type": "stream",
     "text": [
      "Enter any number: 3433\n",
      "Not a palindrome\n"
     ]
    }
   ],
   "source": [
    "n = int(input('Enter any number: '))\n",
    "temp = n\n",
    "rev = 0\n",
    "\n",
    "while(n>0):\n",
    "    dig = n%10\n",
    "    rev = rev*10 + dig\n",
    "    n = n//10\n",
    "if(temp==rev):\n",
    "    print('Palindrome')\n",
    "else:\n",
    "    print('Not a palindrome')"
   ]
  },
  {
   "cell_type": "markdown",
   "metadata": {},
   "source": [
    "7. Write a Python function that accepts a string and calculate the number of upper case letters and lower case letters.\n"
   ]
  },
  {
   "cell_type": "code",
   "execution_count": 45,
   "metadata": {},
   "outputs": [
    {
     "name": "stdout",
     "output_type": "stream",
     "text": [
      "Enter the string: ldjfjKKKJfdslkjfdlskjfds\n",
      "There are 4 Upper case characters\n",
      "And 20 Lower case characters\n"
     ]
    }
   ],
   "source": [
    "st = str(input(\"Enter the string: \"))\n",
    "\n",
    "u=0\n",
    "l=0\n",
    "\n",
    "for cha in st:\n",
    "    if ord(cha) in range(65,91):\n",
    "        u+=1\n",
    "    elif ord(cha) in range(97,123):\n",
    "        l+=1\n",
    "\n",
    "print(\"There are\", u, \"Upper case characters\")\n",
    "print(\"And\", l, \"Lower case characters\")"
   ]
  },
  {
   "cell_type": "markdown",
   "metadata": {},
   "source": [
    "8. Write a Python program that accepts a hyphen-separated sequence of words as input and prints the words in a hyphen-separated sequence after sorting them alphabetically.\n",
    "Sample Items : green-red-yellow-black-white\n",
    "Expected Result : black-green-red-white-yellow"
   ]
  },
  {
   "cell_type": "code",
   "execution_count": 42,
   "metadata": {},
   "outputs": [
    {
     "name": "stdout",
     "output_type": "stream",
     "text": [
      "Enter the string: neeku-em-telusoo elaa-chepaali\n",
      "chepaali-em-neeku-telusoo elaa\n"
     ]
    }
   ],
   "source": [
    "list = [ word for word in input(\"Enter the string: \").split('-')]\n",
    "\n",
    "list.sort()\n",
    "\n",
    "list = '-'.join(list)\n",
    "print(list)"
   ]
  },
  {
   "cell_type": "markdown",
   "metadata": {},
   "source": [
    "9. Write a Python program to calculate the sum of a list of numbers using recursion.\n"
   ]
  },
  {
   "cell_type": "code",
   "execution_count": null,
   "metadata": {},
   "outputs": [],
   "source": [
    "def sum(l):\n",
    "    if len(l) == 1:\n",
    "        return l[0]\n",
    "    else:\n",
    "        return l[0] + sum(l[1:])\n",
    "\n",
    "li = [1,2,3,4]\n",
    "print(sum(li))\n",
    "\n"
   ]
  },
  {
   "cell_type": "markdown",
   "metadata": {},
   "source": [
    "10. Write a function called fizz_buzz that takes a number.\n",
    "    a. If the number is divisible by 3, it should return “Fizz”.\n",
    "    b. If it is divisible by 5, it should return “Buzz”.\n",
    "    c. If it is divisible by both 3 and 5, it should return “FizzBuzz”.\n",
    "    d. Otherwise, it should return the same number."
   ]
  },
  {
   "cell_type": "code",
   "execution_count": 21,
   "metadata": {},
   "outputs": [
    {
     "name": "stdout",
     "output_type": "stream",
     "text": [
      "Enter any number: 343\n",
      "343\n"
     ]
    }
   ],
   "source": [
    "def fizz_buzz(num):\n",
    "    if num%3 == 0 and num%5 ==0:\n",
    "        return \"FizzBuzz\"\n",
    "    elif num%3 == 0:\n",
    "        return \"Fizz\"\n",
    "    elif num %5 == 0:\n",
    "        return \"Buzz\"\n",
    "    else:\n",
    "        return num\n",
    "n = int(input('Enter any number: '))\n",
    "result = fizz_buzz(n)\n",
    "print(result)\n"
   ]
  },
  {
   "cell_type": "code",
   "execution_count": null,
   "metadata": {},
   "outputs": [],
   "source": []
  }
 ],
 "metadata": {
  "kernelspec": {
   "display_name": "Python 3",
   "language": "python",
   "name": "python3"
  },
  "language_info": {
   "codemirror_mode": {
    "name": "ipython",
    "version": 3
   },
   "file_extension": ".py",
   "mimetype": "text/x-python",
   "name": "python",
   "nbconvert_exporter": "python",
   "pygments_lexer": "ipython3",
   "version": "3.7.1"
  }
 },
 "nbformat": 4,
 "nbformat_minor": 2
}
